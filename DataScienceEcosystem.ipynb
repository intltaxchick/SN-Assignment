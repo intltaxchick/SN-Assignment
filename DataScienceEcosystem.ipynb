{
 "cells": [
  {
   "cell_type": "markdown",
   "id": "9bd37af6-b1ea-45b8-a11c-94dac0405964",
   "metadata": {},
   "source": [
    "# Data Science Tools and Ecosystem"
   ]
  },
  {
   "cell_type": "markdown",
   "id": "b7ab4348-9762-4057-95f3-23b34edc43b3",
   "metadata": {},
   "source": [
    "In this notebook, Data Science Tools and Ecosystem are summarized."
   ]
  },
  {
   "cell_type": "markdown",
   "id": "f5a6e1ba-e99e-4daa-9d90-080d1f23b349",
   "metadata": {},
   "source": [
    "**Objectives:**\n",
    "- List of popular languages\n",
    "- List of commonly used libraries\n",
    "- Overview of three data science tools"
   ]
  },
  {
   "cell_type": "markdown",
   "id": "913d430e-550c-4e49-b658-bb62a916577c",
   "metadata": {},
   "source": [
    "Some of the popular languages that Data Scientists use are:\n",
    "1. Python\n",
    "2. R\n",
    "3. SQL \n",
    "4. Julia\n",
    "5. Scala\n",
    "\n",
    "    "
   ]
  },
  {
   "cell_type": "markdown",
   "id": "6331706d-6d56-4438-bc10-541ba2b08962",
   "metadata": {},
   "source": [
    "Some of the commonly used libraries used by Data Scientists include:\n",
    "1. Pandas - for data manipulation and analysis\n",
    "2. Scikit-Learn - for machine learning \n",
    "3. Matplotlib - for data visualization in Python\n",
    "4. Seaborn - for data visualization in Python"
   ]
  },
  {
   "cell_type": "markdown",
   "id": "f6839882-8bc2-4168-b9a1-418273b306cd",
   "metadata": {},
   "source": [
    "|Data Science Tools|\n",
    "|-------------------------------|\n",
    "| Jupyter Notebook|\n",
    "| Visual Studio Code|\n",
    "| GoogleColab| "
   ]
  },
  {
   "cell_type": "markdown",
   "id": "27bfde9a-edaf-47e6-b51a-06fb0a83d5d2",
   "metadata": {},
   "source": [
    "### Below are a few examples of evaluating arithmetic expressions in Python"
   ]
  },
  {
   "cell_type": "markdown",
   "id": "31ae69e1-f16f-4cfc-9c69-502d3da797fe",
   "metadata": {},
   "source": [
    " This a simple arithmetic expression to mutiply then add integers"
   ]
  },
  {
   "cell_type": "code",
   "execution_count": 1,
   "id": "1d2fb31d-0ce2-4f32-80f9-30779977d9c8",
   "metadata": {
    "tags": []
   },
   "outputs": [
    {
     "data": {
      "text/plain": [
       "17"
      ]
     },
     "execution_count": 1,
     "metadata": {},
     "output_type": "execute_result"
    }
   ],
   "source": [
    "(3*4)+5"
   ]
  },
  {
   "cell_type": "markdown",
   "id": "56597f4b-3159-4f89-9997-6cbc4211e264",
   "metadata": {},
   "source": [
    "This will convert 200 minutes to hours by diving by 60"
   ]
  },
  {
   "cell_type": "code",
   "execution_count": 2,
   "id": "15e04871-94d2-4c65-9db6-e497561ab21e",
   "metadata": {
    "tags": []
   },
   "outputs": [
    {
     "data": {
      "text/plain": [
       "3.3333333333333335"
      ]
     },
     "execution_count": 2,
     "metadata": {},
     "output_type": "execute_result"
    }
   ],
   "source": [
    "(200/60)"
   ]
  },
  {
   "cell_type": "markdown",
   "id": "6d5a08cb-ac7b-4d19-9135-73bd175e4aa1",
   "metadata": {},
   "source": [
    "## Author"
   ]
  },
  {
   "cell_type": "markdown",
   "id": "cc5333d7-8e52-49b3-9503-d13d28060064",
   "metadata": {},
   "source": [
    "Kristina Kulle"
   ]
  },
  {
   "cell_type": "code",
   "execution_count": null,
   "id": "c50b14d3-5d93-432d-bd0f-e772d30c5387",
   "metadata": {},
   "outputs": [],
   "source": []
  }
 ],
 "metadata": {
  "kernelspec": {
   "display_name": "Python",
   "language": "python",
   "name": "conda-env-python-py"
  },
  "language_info": {
   "codemirror_mode": {
    "name": "ipython",
    "version": 3
   },
   "file_extension": ".py",
   "mimetype": "text/x-python",
   "name": "python",
   "nbconvert_exporter": "python",
   "pygments_lexer": "ipython3",
   "version": "3.7.12"
  }
 },
 "nbformat": 4,
 "nbformat_minor": 5
}
